{
 "cells": [
  {
   "cell_type": "code",
   "execution_count": null,
   "id": "d614eab1",
   "metadata": {},
   "outputs": [],
   "source": [
    "import pandas as pd\n",
    "from dash import dash_table\n",
    "import dash\n",
    "import plotly\n",
    "from plotly import graph_objects as go\n",
    "from jupyter_dash import JupyterDash\n",
    "from dash import dcc, html\n",
    "from dash.dependencies import Input, Output\n",
    "import dash_bootstrap_components as dbc"
   ]
  },
  {
   "cell_type": "code",
   "execution_count": null,
   "id": "7ea6bd85",
   "metadata": {
    "scrolled": true
   },
   "outputs": [],
   "source": [
    "%%time\n",
    "data = pd.read_csv('../data/owid-covid-data.csv')"
   ]
  },
  {
   "cell_type": "code",
   "execution_count": null,
   "id": "7a5a722b",
   "metadata": {},
   "outputs": [],
   "source": [
    "# convert date to datetime dtype\n",
    "data.date = pd.to_datetime(data.date)"
   ]
  },
  {
   "cell_type": "code",
   "execution_count": null,
   "id": "5a45cf77",
   "metadata": {},
   "outputs": [],
   "source": [
    "# filter only needed cols\n",
    "data = data[['iso_code', 'location', 'date', 'total_cases', 'new_cases', 'total_cases_per_million',\n",
    "             'new_cases_per_million', 'total_deaths', 'new_deaths', 'total_deaths_per_million',\n",
    "             'new_deaths_per_million', 'total_tests', 'new_tests', 'total_tests_per_thousand',\n",
    "             'new_tests_per_thousand', 'total_vaccinations', 'new_vaccinations', 'total_vaccinations_per_hundred',\n",
    "             'new_vaccinations_smoothed_per_million']]"
   ]
  },
  {
   "cell_type": "code",
   "execution_count": null,
   "id": "61d469b0",
   "metadata": {
    "scrolled": true
   },
   "outputs": [],
   "source": [
    "data.head()"
   ]
  },
  {
   "cell_type": "code",
   "execution_count": null,
   "id": "742ebe1b",
   "metadata": {},
   "outputs": [],
   "source": [
    "interval = 'new'\n",
    "metric = 'cases'\n",
    "relative_option = ''\n",
    "date_range = ['2020-03-22', '2020-04-24']"
   ]
  },
  {
   "cell_type": "code",
   "execution_count": null,
   "id": "3b594b37",
   "metadata": {},
   "outputs": [],
   "source": [
    "# filter to col and dates\n",
    "table_data = data[['location', 'date', f'{interval}_{metric}']]\n",
    "# convert date_range to datetimes\n",
    "date_range = [pd.to_datetime(i) for i in date_range]\n",
    "\n",
    "# create new location and date dataframe with two dates in date_range\n",
    "dfs = []\n",
    "for country in table_data.location.unique():\n",
    "    dfs.append(pd.DataFrame(data={'location': country, 'date': date_range}))\n",
    "dfs = pd.concat(dfs)\n",
    "\n",
    "# left join data\n",
    "table_data = dfs.merge(table_data, how='left', on=['location', 'date'])\n",
    "\n",
    "# fill missing values with 0\n",
    "table_data = table_data.fillna(0)\n",
    "\n",
    "# unstack df\n",
    "table_data = table_data.set_index(['location', 'date']).unstack('date')\n",
    "table_data.columns = table_data.columns.droplevel()\n",
    "\n",
    "# add absolute change col\n",
    "table_data['Absolute Change'] = table_data[date_range[1]] - table_data[date_range[0]]\n",
    "# def format_abs_change(x):\n",
    "#     return '+' + str(x) if x >= 0 else str(x)\n",
    "# table_data['Absolute Change'] = table_data['Absolute Change'].apply(format_abs_change)\n",
    "\n",
    "# fix column names\n",
    "table_data.columns = [str(table_data.columns[0])[:10], str(table_data.columns[1])[:10], table_data.columns[2]]\n",
    "\n",
    "# add relative change col\n",
    "def relative_calc(x):\n",
    "    # if both 0, 0: 0\n",
    "    if (x[0]==0) & (x[1] == 0):\n",
    "        return 0\n",
    "    # if both #, #: #\n",
    "    elif (x[0]!=0) & (x[1]!=0):\n",
    "        return round((x[2]/x[0])*100)\n",
    "    # if 0, #: blank\n",
    "    elif (x[0]==0) & (x[1]!=0):\n",
    "        return \n",
    "    # if #, 0: -%100%\n",
    "        return -100\n",
    "    \n",
    "table_data['Relative Change'] = table_data.apply(relative_calc, axis=1)\n",
    "\n",
    "table_data"
   ]
  },
  {
   "cell_type": "code",
   "execution_count": null,
   "id": "6f7ec22f",
   "metadata": {},
   "outputs": [],
   "source": [
    "[{'name': i, 'id': i} for i in table_data.columns]"
   ]
  },
  {
   "cell_type": "code",
   "execution_count": null,
   "id": "fafbe1c3",
   "metadata": {},
   "outputs": [],
   "source": [
    "table_data.to_json(orient='records')"
   ]
  },
  {
   "cell_type": "code",
   "execution_count": null,
   "id": "9ef17dc4",
   "metadata": {},
   "outputs": [],
   "source": [
    "weekly_data = data.groupby(['iso_code', 'location']).rolling(7, on='date').sum().reset_index()\n",
    "weekly_data"
   ]
  },
  {
   "cell_type": "code",
   "execution_count": null,
   "id": "0dc4b71c",
   "metadata": {},
   "outputs": [],
   "source": [
    "app = JupyterDash(__name__)\n",
    "\n",
    "\n",
    "# relative logic\n",
    "if (relative_option == ['relative']) & (metric != 'vaccinations'):\n",
    "    if metric == 'tests':\n",
    "        col_name = f'{interval}_{metric}_per_thousand'\n",
    "    else:\n",
    "        col_name = f'{interval}_{metric}_per_million'\n",
    "else:\n",
    "    col_name = f'{interval}_{metric}'\n",
    "\n",
    "# filter to col and dates\n",
    "table_data = data[['location', 'date', col_name]]\n",
    "# convert date_range to datetimes\n",
    "date_range = [pd.to_datetime(i) for i in date_range]\n",
    "\n",
    "# create new location and date dataframe with two dates in date_range\n",
    "dfs = []\n",
    "for country in table_data.location.unique():\n",
    "    dfs.append(pd.DataFrame(data={'location': country, 'date': date_range}))\n",
    "dfs = pd.concat(dfs)\n",
    "\n",
    "# left join data\n",
    "table_data = dfs.merge(table_data, how='left', on=['location', 'date'])\n",
    "\n",
    "# fill missing values with 0\n",
    "table_data = table_data.fillna(0)\n",
    "\n",
    "# unstack df\n",
    "table_data = table_data.set_index(['location', 'date']).unstack('date')\n",
    "table_data.columns = table_data.columns.droplevel()\n",
    "\n",
    "# add absolute change col\n",
    "table_data['Absolute Change'] = table_data[date_range[1]] - table_data[date_range[0]]\n",
    "\n",
    "# fix column names\n",
    "table_data.columns = [str(table_data.columns[0])[:10], str(table_data.columns[1])[:10], table_data.columns[2]]\n",
    "\n",
    "# add relative change col\n",
    "def relative_calc(x):\n",
    "    # if both 0, 0: 0\n",
    "    if (x[0] == 0) & (x[1] == 0):\n",
    "        return 0\n",
    "    # if both #, #: #\n",
    "    elif (x[0] != 0) & (x[1] != 0):\n",
    "        return round((x[2] / x[0]) * 100)\n",
    "    # if 0, #: blank\n",
    "    elif (x[0] == 0) & (x[1] != 0):\n",
    "        return\n",
    "        # if #, 0: -%100%\n",
    "        return -100\n",
    "\n",
    "table_data['Relative Change'] = table_data.apply(relative_calc, axis=1)\n",
    "\n",
    "\n",
    "app.layout = html.Div(\n",
    "    dash_table.DataTable(\n",
    "        id='data-table',\n",
    "        columns = [{'name': i, 'id': i} for i in table_data.columns],\n",
    "        data = table_data.to_dict('records')\n",
    "    )\n",
    ")\n",
    "\n",
    "\n",
    "app.run_server(mode='inline', debug=True)"
   ]
  },
  {
   "cell_type": "code",
   "execution_count": null,
   "id": "1c906987",
   "metadata": {},
   "outputs": [],
   "source": [
    "help(dash_table)"
   ]
  },
  {
   "cell_type": "code",
   "execution_count": null,
   "id": "620797b1",
   "metadata": {},
   "outputs": [],
   "source": []
  },
  {
   "cell_type": "code",
   "execution_count": null,
   "id": "1e9fca62",
   "metadata": {},
   "outputs": [],
   "source": []
  }
 ],
 "metadata": {
  "kernelspec": {
   "display_name": "Python 3",
   "language": "python",
   "name": "python3"
  },
  "language_info": {
   "codemirror_mode": {
    "name": "ipython",
    "version": 3
   },
   "file_extension": ".py",
   "mimetype": "text/x-python",
   "name": "python",
   "nbconvert_exporter": "python",
   "pygments_lexer": "ipython3",
   "version": "3.8.8"
  }
 },
 "nbformat": 4,
 "nbformat_minor": 5
}
